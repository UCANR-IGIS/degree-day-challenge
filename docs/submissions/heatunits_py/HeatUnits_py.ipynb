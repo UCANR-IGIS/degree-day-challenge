{
 "cells": [
  {
   "cell_type": "markdown",
   "id": "24eb3a5c",
   "metadata": {},
   "source": [
    "# Validate Python 'Heat Units' module\n",
    "\n",
    "This notebook will use functions from the [HeatUnits](https://github.com/UCANR-IGIS/caladapt-py/blob/master/CookBooks/HeatUnits.py) Python module to compute degree days for a test data set from the [Degree Day Challenge](https://ucanr-igis.github.io/degree-day-challenge/). It will then compare the results with the reference answers from the UC IPM website. For more info on the datasets, see the [Degree Day Challenge](https://ucanr-igis.github.io/degree-day-challenge/)."
   ]
  },
  {
   "cell_type": "markdown",
   "id": "bce47bbb",
   "metadata": {},
   "source": [
    "<div style=\"width:80%; background-color:#eee; border:2px solid gray; margin:0 auto; padding:1em;\">\n",
    "<strong>Summary of results</strong>\n",
    "\n",
    "- No differences were found between the computations and the reference answers for horizontal cutoffs.\n",
    "\n",
    "- A small number (4-10) of days out of 365 had relatively big differences between the UC IPM website and `HeatU()` for the intermediate and vertical cutoffs. This was seen in all methods (single-triangle, single-sine, double-triangle, double-sine)\n",
    "    \n",
    "- Next steps: 1) repeat the calculations on the IPM website, 2) look for an alternative way (e.g., graphical) to compute the metric\n",
    "\n",
    "</div>  "
   ]
  },
  {
   "cell_type": "markdown",
   "id": "19c78a87",
   "metadata": {},
   "source": [
    "First we import the Pandas package and the HeatUnits module:"
   ]
  },
  {
   "cell_type": "code",
   "execution_count": null,
   "id": "4b022ee0",
   "metadata": {},
   "outputs": [],
   "source": [
    "import pandas as pd\n",
    "import HeatUnits as hu"
   ]
  },
  {
   "cell_type": "markdown",
   "id": "6ec38ac4",
   "metadata": {},
   "source": [
    "Next we import the reference temperature dataset:"
   ]
  },
  {
   "cell_type": "code",
   "execution_count": null,
   "id": "b992bf50",
   "metadata": {},
   "outputs": [],
   "source": [
    "# Read CSV into pandas dataframe\n",
    "data = pd.read_csv('espartoa-weather-2020.csv')\n",
    "\n",
    "# Preview\n",
    "pd.reset_option('display.max_rows')\n",
    "data"
   ]
  },
  {
   "cell_type": "markdown",
   "id": "34821f64",
   "metadata": {},
   "source": [
    "Next, we add columns for the following day's min and max temperatures. Some of the degree day formula need these."
   ]
  },
  {
   "cell_type": "code",
   "execution_count": null,
   "id": "fe61a48e",
   "metadata": {
    "scrolled": true
   },
   "outputs": [],
   "source": [
    "# Add column for yesterdays min temp and fill the NA values by repeating the prev/next row\n",
    "data[\"tmin_tom\"] = data[\"tmin\"].shift(-1)\n",
    "data.tmin_tom.fillna(data.tmin, inplace=True)\n",
    "\n",
    "# add column for tomorrows max temp\n",
    "data[\"tmax_yest\"] = data[\"tmax\"].shift(1)\n",
    "data.tmax_yest.fillna(data.tmax, inplace=True)\n",
    "\n",
    "# Preview\n",
    "data"
   ]
  },
  {
   "cell_type": "markdown",
   "id": "776b7028",
   "metadata": {},
   "source": [
    "The HeatUnits module has a single function `HeatU` that computes degree days from the daily minimum and maximum temperature using the methods described in Zalom (1983) and three different cutoff methods. \n",
    "\n",
    "Let's look at the help page for `HeatU`:"
   ]
  },
  {
   "cell_type": "code",
   "execution_count": null,
   "id": "6d27fbcc",
   "metadata": {},
   "outputs": [],
   "source": [
    "help(hu.HeatU)"
   ]
  },
  {
   "cell_type": "markdown",
   "id": "f06a6f19",
   "metadata": {},
   "source": [
    "The arguments required include:\n",
    "- `lthres` - lower temperature threshold\n",
    "- `cthres` - upper temperature threshold\n",
    "- `cm` - computation method (1 = single sine; 2 = double sine; 3 = single triangle, 4 = double triangle; 5 = Huber's method)\n",
    "- `coff` - cuttoff method (1 = horizontal, 2 = intermediate, 3 = vertical)\n",
    "- `ci` - Computation interval (ASK SHANE WHAT IS THIS ARGUMENT FOR ?????)\n",
    "- `tmin` - minimum daily temp\n",
    "- `tmax` - maximum daily temp\n",
    "- `tmin_tomm` - tomorrow's daily minimum temp\n",
    "- `tmax_yest` - yesterday's daily maximum temp"
   ]
  },
  {
   "cell_type": "markdown",
   "id": "82c134fd",
   "metadata": {},
   "source": [
    "Note that several of the arguments expect a temperature value. You can use either Farenheit or Celcius, as long as you're consistent.\n",
    "\n",
    "To make our live a little easier, we define some global constants:"
   ]
  },
  {
   "cell_type": "code",
   "execution_count": null,
   "id": "d89f8a6e",
   "metadata": {},
   "outputs": [],
   "source": [
    "CM_SNGSIN = 1\n",
    "CM_DBLSIN = 2\n",
    "CM_SNGTRI = 3\n",
    "CM_DBLTRI = 4\n",
    "CM_HUBER = 5\n",
    "\n",
    "COFF_H = 1\n",
    "COFF_I = 2\n",
    "COFF_V = 3                         "
   ]
  },
  {
   "cell_type": "markdown",
   "id": "141452ea",
   "metadata": {},
   "source": [
    "To demonstrate how to compute degree days with `HeatU()`, let's compute single sine method using a horizontal cutoff:"
   ]
  },
  {
   "cell_type": "code",
   "execution_count": null,
   "id": "3e05c7d3",
   "metadata": {},
   "outputs": [],
   "source": [
    "LOWER_THRESH = 50\n",
    "UPPER_THRESH = 70\n",
    "\n",
    "data_sisine = data.copy()\n",
    "data_sisine[\"SiSineHor\"] = data.apply(lambda x: hu.HeatU(LOWER_THRESH, UPPER_THRESH, CM_SNGSIN, COFF_H, 1, \n",
    "                                                  x['tmin'], x['tmax']), axis=1)\n",
    "\n",
    "data_sisine"
   ]
  },
  {
   "cell_type": "markdown",
   "id": "a6cbc635",
   "metadata": {},
   "source": [
    "# Import Reference Answers\n",
    "\n",
    "To compare these calculations against the reference answers, we first import the 'correct' answers available from the [Degree Day Challenge](https://github.com/UCANR-IGIS/degree-day-challenge/blob/main/data/ucipm_results/ucipm_low50_high70_all.csv) website:"
   ]
  },
  {
   "cell_type": "code",
   "execution_count": null,
   "id": "a0588a17",
   "metadata": {},
   "outputs": [],
   "source": [
    "# Read the CSV of official answers into pandas dataframe\n",
    "ans = pd.read_csv('ucipm_low50_high70_all.csv')\n",
    "\n",
    "# Preview\n",
    "ans"
   ]
  },
  {
   "cell_type": "markdown",
   "id": "dfcb8134",
   "metadata": {},
   "source": [
    "## Compare Answers\n",
    "\n",
    "To compare the values against reference answers, we i) round the values to two decimal places (because the reference values are rounded), and then subtract:"
   ]
  },
  {
   "cell_type": "code",
   "execution_count": null,
   "id": "99d92c7a",
   "metadata": {},
   "outputs": [],
   "source": [
    "sngsine_diff = data_sisine.round({'SiSineHor': 2})['SiSineHor'] - ans['sngsine_horiz']"
   ]
  },
  {
   "cell_type": "markdown",
   "id": "425fc3f2",
   "metadata": {},
   "source": [
    "View the results (they should all be zero):"
   ]
  },
  {
   "cell_type": "code",
   "execution_count": null,
   "id": "6b0ba1ba",
   "metadata": {},
   "outputs": [],
   "source": [
    "pd.set_option('display.max_rows', None)\n",
    "display(sngsine_diff)"
   ]
  },
  {
   "cell_type": "markdown",
   "id": "881404fc",
   "metadata": {},
   "source": [
    "An easier way to view the differences is through a frequency table:"
   ]
  },
  {
   "cell_type": "code",
   "execution_count": null,
   "id": "aa5e4441",
   "metadata": {
    "scrolled": true
   },
   "outputs": [],
   "source": [
    "sngsine_diff.value_counts()\n"
   ]
  },
  {
   "cell_type": "markdown",
   "id": "09501706",
   "metadata": {},
   "source": [
    "# Compute and Compare Single Triangle Methods\n",
    "\n",
    "Next we compute all the degree day methods, starting with the triangle methods:"
   ]
  },
  {
   "cell_type": "code",
   "execution_count": null,
   "id": "b276c260",
   "metadata": {},
   "outputs": [],
   "source": [
    "data_sngtri = data.copy()\n",
    "data_sngtri[\"SiTriHor\"] = data_sngtri.apply(lambda x: hu.HeatU(50, 70, CM_SNGTRI, COFF_H, 1, x['tmin'], x['tmax']), axis=1)\n",
    "data_sngtri[\"SiTriInt\"] = data_sngtri.apply(lambda x: hu.HeatU(50, 70, CM_SNGTRI, COFF_I, 1, x['tmin'], x['tmax']), axis=1)\n",
    "data_sngtri[\"SiTriVert\"] = data_sngtri.apply(lambda x: hu.HeatU(50, 70, CM_SNGTRI, COFF_V, 1, x['tmin'], x['tmax']), axis=1)\n",
    "data_sngtri_cols = ['station', 'date', 'tmin', 'tmax', 'tmin_tom', 'tmax_yest', 'SiTriHor', 'SiTriInt', 'SiTriVert']\n",
    "\n",
    "# data_sngtri = data_sngtri[data_sngtri_cols]      ## works but causes an error below\n",
    "data_sngtri = data_sngtri.loc[:,data_sngtri_cols]  \n",
    "data_sngtri.head()"
   ]
  },
  {
   "cell_type": "markdown",
   "id": "339ff669",
   "metadata": {},
   "source": [
    "Now compute the differences between the values computed by `HeatU()` and the answers from the IPM website:"
   ]
  },
  {
   "cell_type": "code",
   "execution_count": null,
   "id": "0f3cf119",
   "metadata": {
    "scrolled": true
   },
   "outputs": [],
   "source": [
    "data_sngtri[\"SiTriHor_diff\"] = round(data_sngtri.SiTriHor, 2) - ans['sngtri_horiz']\n",
    "data_sngtri[\"SiTriInt_diff\"] = round(data_sngtri.SiTriInt, 2) - ans['sngtri_intrmd']\n",
    "data_sngtri[\"SiTriVert_diff\"] = round(data_sngtri.SiTriVert, 2) - ans['sngtri_vert']\n",
    "data_sngtri.head()"
   ]
  },
  {
   "cell_type": "markdown",
   "id": "54d2cd58",
   "metadata": {},
   "source": [
    "### Compare Differences: Single triangle with horizonal cutoff"
   ]
  },
  {
   "cell_type": "code",
   "execution_count": null,
   "id": "1c835a48",
   "metadata": {},
   "outputs": [],
   "source": [
    "# Single triangle with horizonal cutoff\n",
    "data_sngtri.SiTriHor_diff.value_counts()"
   ]
  },
  {
   "cell_type": "markdown",
   "id": "af8ef45f",
   "metadata": {},
   "source": [
    "### Compare Differences: Single triangle with intermediate cutoff"
   ]
  },
  {
   "cell_type": "code",
   "execution_count": null,
   "id": "1f569d1f",
   "metadata": {},
   "outputs": [],
   "source": [
    "# Single triangle with intermediate cutoff\n",
    "data_sngtri.SiTriInt_diff.value_counts()"
   ]
  },
  {
   "cell_type": "markdown",
   "id": "e7415952",
   "metadata": {},
   "source": [
    "Oh dear. Let's review the rows with significant differences: "
   ]
  },
  {
   "cell_type": "code",
   "execution_count": null,
   "id": "fa43e0e2",
   "metadata": {},
   "outputs": [],
   "source": [
    "data_sngtri[data_sngtri.SiTriInt_diff >= 10]"
   ]
  },
  {
   "cell_type": "markdown",
   "id": "ddb9eb38",
   "metadata": {},
   "source": [
    "### Compare Differences: Single triangle with vertical cutoff"
   ]
  },
  {
   "cell_type": "code",
   "execution_count": null,
   "id": "823d4a5b",
   "metadata": {},
   "outputs": [],
   "source": [
    "# Single triangle with vertical cutoff\n",
    "data_sngtri.SiTriVert_diff.value_counts()"
   ]
  },
  {
   "cell_type": "markdown",
   "id": "39125da6",
   "metadata": {},
   "source": [
    "# Investigate Differences in the Single Triangle Methods"
   ]
  },
  {
   "cell_type": "markdown",
   "id": "f64203be",
   "metadata": {},
   "source": [
    "Oh dear, we see 4 days of the year where we're getting a big difference between the IPM website and the calculations from `HeatU()` for the single triangle method with the **intermediate** and **vertical** cutoffs (horizontal is fine).\n",
    "\n",
    "Let's look at the rows where the difference is 20:"
   ]
  },
  {
   "cell_type": "code",
   "execution_count": null,
   "id": "4bf6df59",
   "metadata": {},
   "outputs": [],
   "source": [
    "data_sngtri[data_sngtri.SiTriVert_diff >= 20]"
   ]
  },
  {
   "cell_type": "markdown",
   "id": "8e611275",
   "metadata": {},
   "source": [
    "To see what's going on, let's join the `data_sngtri` and `ans` dataframes. They each have a 'date' column, however these columns are strings in different formats (see below for code to convert both of them to `datetime64[ns]`). So instead we'll merge them with `Dataframe.join()`."
   ]
  },
  {
   "cell_type": "markdown",
   "id": "0d466380",
   "metadata": {},
   "source": [
    "## Join the Answer Table"
   ]
  },
  {
   "cell_type": "markdown",
   "id": "e434faaf",
   "metadata": {},
   "source": [
    "Step 1 is to rename the columns in `data_sngtri` (to make it clear which dataframe they're from):"
   ]
  },
  {
   "cell_type": "code",
   "execution_count": null,
   "id": "b087eaf5",
   "metadata": {},
   "outputs": [],
   "source": [
    "data_sngtri.rename(columns={'date': 'date_hu', 'tmin': 'tmin_hu', 'tmax': 'tmax_hu',\n",
    "                           'SiTriHor': 'SiTriHor_hu', 'SiTriInt': 'SiTriInt_hu', \n",
    "                           'SiTriVert': 'SiTriVert_hu'}, inplace=True)\n",
    "data_sngtri.head()"
   ]
  },
  {
   "cell_type": "markdown",
   "id": "c353d06d",
   "metadata": {},
   "source": [
    "Next, create a subset of the columns of the Answers dataframe."
   ]
  },
  {
   "cell_type": "code",
   "execution_count": null,
   "id": "cc800cb0",
   "metadata": {},
   "outputs": [],
   "source": [
    "## Take a subset of columns from the reference dataset\n",
    "ans_cols = ['date', 'tmin', 'tmax', 'sngtri_horiz', 'sngtri_intrmd', 'sngtri_vert']\n",
    "ans_sngtri = ans.loc[:, ans_cols].copy()\n",
    "ans_sngtri.head()"
   ]
  },
  {
   "cell_type": "markdown",
   "id": "bac6a8b8",
   "metadata": {},
   "source": [
    "Rename them:"
   ]
  },
  {
   "cell_type": "code",
   "execution_count": null,
   "id": "6e121980",
   "metadata": {},
   "outputs": [],
   "source": [
    "## Rename some of the columns\n",
    "ans_sngtri.rename(columns={'date': 'date_ipm', 'tmin': 'tmin_ipm', 'tmax': 'tmax_ipm',\n",
    "                           'sngtri_horiz': 'SiTriHor_ipm', 'sngtri_intrmd': 'SiTriInt_ipm', \n",
    "                           'sngtri_vert': 'SiTriVert_ipm'}, inplace=True)\n",
    "ans_sngtri.head()"
   ]
  },
  {
   "cell_type": "markdown",
   "id": "7debba3c",
   "metadata": {},
   "source": [
    "Before we join them, let's verify they have the same number of rows:"
   ]
  },
  {
   "cell_type": "code",
   "execution_count": null,
   "id": "6ea15f71",
   "metadata": {},
   "outputs": [],
   "source": [
    "data_sngtri.shape\n",
    "ans_sngtri.shape"
   ]
  },
  {
   "cell_type": "markdown",
   "id": "6fffc94d",
   "metadata": {},
   "source": [
    "Now we can join them:"
   ]
  },
  {
   "cell_type": "code",
   "execution_count": null,
   "id": "558d75fb",
   "metadata": {},
   "outputs": [],
   "source": [
    "sngtri_comb = data_sngtri.join(ans_sngtri, lsuffix='_hu', rsuffix='_ipm')\n",
    "sngtri_comb.head()"
   ]
  },
  {
   "cell_type": "code",
   "execution_count": null,
   "id": "fcb0427f",
   "metadata": {},
   "outputs": [],
   "source": [
    "sngtri_comb = sngtri_comb.reindex(columns=['station', 'date_hu', 'date_ipm', 'tmin_hu', 'tmin_ipm', 'tmax_hu',\n",
    "                                           'tmax_ipm', 'tmin_tom', 'tmax_yest', \n",
    "                                           'SiTriHor_hu', 'SiTriHor_ipm', 'SiTriHor_diff',\n",
    "                                           'SiTriInt_hu', 'SiTriInt_ipm', 'SiTriInt_diff', \n",
    "                                           'SiTriVert_hu', 'SiTriVert_ipm', 'SiTriVert_diff'])\n",
    "sngtri_comb.head()"
   ]
  },
  {
   "cell_type": "markdown",
   "id": "190a4a3b",
   "metadata": {},
   "source": [
    "View the rows with the big differences:"
   ]
  },
  {
   "cell_type": "code",
   "execution_count": null,
   "id": "f21d0263",
   "metadata": {},
   "outputs": [],
   "source": [
    "sngtri_comb[sngtri_comb.SiTriVert_diff >= 20]"
   ]
  },
  {
   "cell_type": "markdown",
   "id": "a0af7e4a",
   "metadata": {},
   "source": [
    "# Single Sine Methods"
   ]
  },
  {
   "cell_type": "code",
   "execution_count": null,
   "id": "a7b259a7",
   "metadata": {},
   "outputs": [],
   "source": [
    "data_sngsin = data.copy()\n",
    "data_sngsin[\"SiSineHor\"] = data_sngsin.apply(lambda x: hu.HeatU(50, 70, CM_SNGSIN, COFF_H, 1, x['tmin'], x['tmax']), axis=1)\n",
    "data_sngsin[\"SiSineInt\"] = data_sngsin.apply(lambda x: hu.HeatU(50, 70, CM_SNGSIN, COFF_I, 1, x['tmin'], x['tmax']), axis=1)\n",
    "data_sngsin[\"SiSineVert\"] = data_sngsin.apply(lambda x: hu.HeatU(50, 70, CM_SNGSIN, COFF_V, 1, x['tmin'], x['tmax']), axis=1)\n",
    "data_sngsin.head()"
   ]
  },
  {
   "cell_type": "markdown",
   "id": "f6982f92",
   "metadata": {},
   "source": [
    "Compare with IPM answers:"
   ]
  },
  {
   "cell_type": "code",
   "execution_count": null,
   "id": "d8b1e8ce",
   "metadata": {},
   "outputs": [],
   "source": [
    "ans.head()"
   ]
  },
  {
   "cell_type": "code",
   "execution_count": null,
   "id": "6fa1e057",
   "metadata": {},
   "outputs": [],
   "source": [
    "data_sngsin.head()"
   ]
  },
  {
   "cell_type": "code",
   "execution_count": null,
   "id": "fe0b78aa",
   "metadata": {},
   "outputs": [],
   "source": [
    "data_sngsin[\"SiSineHor_diff\"] = round(data_sngsin.SiSineHor, 2) - ans['sngsine_horiz']\n",
    "data_sngsin[\"SiSineInt_diff\"] = round(data_sngsin.SiSineInt, 2) - ans['sngsine_intrmd']\n",
    "data_sngsin[\"SiSineVert_diff\"] = round(data_sngsin.SiSineVert, 2) - ans['sngsine_vert']\n",
    "data_sngsin.head()"
   ]
  },
  {
   "cell_type": "markdown",
   "id": "76bea85a",
   "metadata": {},
   "source": [
    "Look at the distribution of the differences:"
   ]
  },
  {
   "cell_type": "code",
   "execution_count": null,
   "id": "19201a66",
   "metadata": {},
   "outputs": [],
   "source": [
    "data_sngsin.SiSineHor_diff.value_counts()"
   ]
  },
  {
   "cell_type": "code",
   "execution_count": null,
   "id": "e91e4153",
   "metadata": {},
   "outputs": [],
   "source": [
    "data_sngsin.SiSineInt_diff.value_counts()"
   ]
  },
  {
   "cell_type": "code",
   "execution_count": null,
   "id": "5ba212a3",
   "metadata": {},
   "outputs": [],
   "source": [
    "data_sngsin.SiSineVert_diff.value_counts()"
   ]
  },
  {
   "cell_type": "markdown",
   "id": "227057b3",
   "metadata": {},
   "source": [
    "See which rows are causing the issue:"
   ]
  },
  {
   "cell_type": "code",
   "execution_count": null,
   "id": "d31c0f6a",
   "metadata": {
    "scrolled": true
   },
   "outputs": [],
   "source": [
    "data_sngsin[data_sngsin.SiSineVert_diff > 10]"
   ]
  },
  {
   "cell_type": "markdown",
   "id": "f6cbac85",
   "metadata": {},
   "source": [
    "<p style=\"color:red; text-align:center; font-size:150%; line-height:30px;\">There seem to be 4 rows where the results of `HeatU()` for the Single Sine method with the intermediate and vertical cutoffs that differ from those from the IPM website</p>"
   ]
  },
  {
   "cell_type": "markdown",
   "id": "b6ee2954",
   "metadata": {},
   "source": [
    "# Double Sine Methods"
   ]
  },
  {
   "cell_type": "code",
   "execution_count": null,
   "id": "0ac80178",
   "metadata": {},
   "outputs": [],
   "source": [
    "data_dblsin = data.copy()\n",
    "data_dblsin[\"DoSineHor\"] = data_dblsin.apply(lambda x: hu.HeatU(50, 70, CM_DBLSIN, COFF_H, 1, x['tmin'], x['tmax'], x['tmin_tom'], x['tmax_yest']), axis=1)\n",
    "data_dblsin[\"DoSineInt\"] = data_dblsin.apply(lambda x: hu.HeatU(50, 70, CM_DBLSIN, COFF_I, 1, x['tmin'], x['tmax'], x['tmin_tom'], x['tmax_yest']), axis=1)\n",
    "data_dblsin[\"DoSineVert\"] = data_dblsin.apply(lambda x: hu.HeatU(50, 70, CM_DBLSIN, COFF_V, 1, x['tmin'], x['tmax'], x['tmin_tom'], x['tmax_yest']), axis=1)\n",
    "data_dblsin.head()"
   ]
  },
  {
   "cell_type": "markdown",
   "id": "b6630c9d",
   "metadata": {},
   "source": [
    "Compute differences with the IPM answers:"
   ]
  },
  {
   "cell_type": "code",
   "execution_count": null,
   "id": "99913338",
   "metadata": {
    "scrolled": true
   },
   "outputs": [],
   "source": [
    "data_dblsin[\"DoSineHor_diff\"] = round(data_dblsin.DoSineHor, 2) - ans['dblsine_horiz']\n",
    "data_dblsin[\"DoSineInt_diff\"] = round(data_dblsin.DoSineInt, 2) - ans['dblsine_intrmd']\n",
    "data_dblsin[\"DoSineVert_diff\"] = round(data_dblsin.DoSineVert, 2) - ans['dblsine_vert']\n",
    "data_dblsin.head()"
   ]
  },
  {
   "cell_type": "code",
   "execution_count": null,
   "id": "dd396568",
   "metadata": {},
   "outputs": [],
   "source": [
    "## Double sine horizontal cutoff\n",
    "data_dblsin.DoSineHor_diff.value_counts()"
   ]
  },
  {
   "cell_type": "code",
   "execution_count": null,
   "id": "88fac944",
   "metadata": {
    "scrolled": true
   },
   "outputs": [],
   "source": [
    "## Double sine intermediate cutoff\n",
    "data_dblsin.DoSineInt_diff.value_counts()"
   ]
  },
  {
   "cell_type": "code",
   "execution_count": null,
   "id": "d31e689b",
   "metadata": {},
   "outputs": [],
   "source": [
    "## Double sine vertical cutoff\n",
    "data_dblsin.DoSineVert_diff.value_counts()"
   ]
  },
  {
   "cell_type": "markdown",
   "id": "6b8743c7",
   "metadata": {},
   "source": [
    "Identify rows where they don't agree:"
   ]
  },
  {
   "cell_type": "code",
   "execution_count": null,
   "id": "b0280f60",
   "metadata": {},
   "outputs": [],
   "source": [
    "data_dblsin[data_dblsin.DoSineVert_diff > 1]"
   ]
  },
  {
   "cell_type": "code",
   "execution_count": null,
   "id": "9c58db7b",
   "metadata": {},
   "outputs": [],
   "source": [
    "data_dblsin[data_dblsin.DoSineInt_diff > 1]"
   ]
  },
  {
   "cell_type": "markdown",
   "id": "3756faf4",
   "metadata": {},
   "source": [
    "<p style=\"color:red; text-align:center; font-size:150%; line-height:30px;\">There seem to be 7 rows where the results of `HeatU()` for the Double Sine method with the intermediate and vertical cutoffs that differ from those from the IPM website</p>"
   ]
  },
  {
   "cell_type": "markdown",
   "id": "7a9fdc60",
   "metadata": {},
   "source": [
    "# Double-Triangle Methods"
   ]
  },
  {
   "cell_type": "code",
   "execution_count": null,
   "id": "70965430",
   "metadata": {
    "scrolled": true
   },
   "outputs": [],
   "source": [
    "data_dbltri = data.copy()\n",
    "data_dbltri[\"DoTriHor\"] = data_dbltri.apply(lambda x: hu.HeatU(50, 70, CM_DBLTRI, COFF_H, 1, x['tmin'], x['tmax'], x['tmin_tom'], x['tmax_yest']), axis=1)\n",
    "data_dbltri[\"DoTriInt\"] = data_dbltri.apply(lambda x: hu.HeatU(50, 70, CM_DBLTRI, COFF_I, 1, x['tmin'], x['tmax'], x['tmin_tom'], x['tmax_yest']), axis=1)\n",
    "data_dbltri[\"DoTriVert\"] = data_dbltri.apply(lambda x: hu.HeatU(50, 70, CM_DBLTRI, COFF_V, 1, x['tmin'], x['tmax'], x['tmin_tom'], x['tmax_yest']), axis=1)\n",
    "data_dbltri.head()"
   ]
  },
  {
   "cell_type": "markdown",
   "id": "9fb43025",
   "metadata": {},
   "source": [
    "Compute differences with IPM website:"
   ]
  },
  {
   "cell_type": "code",
   "execution_count": null,
   "id": "ecfb4b70",
   "metadata": {},
   "outputs": [],
   "source": [
    "data_dbltri[\"DoTriHorr_diff\"] = round(data_dbltri.DoTriHor, 2) - ans['dbltri_horiz']\n",
    "data_dbltri[\"DoTriInt_diff\"] = round(data_dbltri.DoTriInt, 2) - ans['dbltri_intrmd']\n",
    "data_dbltri[\"DoTriVert_diff\"] = round(data_dbltri.DoTriVert, 2) - ans['dbltri_vert']\n",
    "data_dbltri.head()"
   ]
  },
  {
   "cell_type": "markdown",
   "id": "72f937af",
   "metadata": {},
   "source": [
    "Look at the distribution of the differences:"
   ]
  },
  {
   "cell_type": "code",
   "execution_count": null,
   "id": "d916534c",
   "metadata": {},
   "outputs": [],
   "source": [
    "## Double triangle horizontal cutoff\n",
    "data_dbltri.DoTriHorr_diff.value_counts()"
   ]
  },
  {
   "cell_type": "code",
   "execution_count": null,
   "id": "b4ec94f0",
   "metadata": {},
   "outputs": [],
   "source": [
    "## Double triangle intermediate cutoff\n",
    "data_dbltri.DoTriInt_diff.value_counts()"
   ]
  },
  {
   "cell_type": "code",
   "execution_count": null,
   "id": "3a30074e",
   "metadata": {},
   "outputs": [],
   "source": [
    "## Double triange vertical cutoff\n",
    "data_dbltri.DoTriVert_diff.value_counts()"
   ]
  },
  {
   "cell_type": "markdown",
   "id": "b5366c19",
   "metadata": {},
   "source": [
    "Investigate rows with the differences occur:"
   ]
  },
  {
   "cell_type": "code",
   "execution_count": null,
   "id": "986c7fbb",
   "metadata": {},
   "outputs": [],
   "source": [
    "data_dbltri[data_dbltri.DoTriVert_diff > 1]"
   ]
  },
  {
   "cell_type": "code",
   "execution_count": null,
   "id": "e3709ab1",
   "metadata": {
    "scrolled": true
   },
   "outputs": [],
   "source": [
    "data_dbltri[data_dbltri.DoTriInt_diff > 1]"
   ]
  },
  {
   "cell_type": "markdown",
   "id": "8ccfedfc",
   "metadata": {},
   "source": [
    "<p style=\"color:red; text-align:center; font-size:150%; line-height:30px;\">There seem to be 7 rows where the results of `HeatU()` for the Double Triangle method with the intermediate and vertical cutoffs that differ from those from the IPM website</p>"
   ]
  }
 ],
 "metadata": {
  "kernelspec": {
   "display_name": "Python 3 (ipykernel)",
   "language": "python",
   "name": "python3"
  },
  "language_info": {
   "codemirror_mode": {
    "name": "ipython",
    "version": 3
   },
   "file_extension": ".py",
   "mimetype": "text/x-python",
   "name": "python",
   "nbconvert_exporter": "python",
   "pygments_lexer": "ipython3",
   "version": "3.9.13"
  }
 },
 "nbformat": 4,
 "nbformat_minor": 5
}
